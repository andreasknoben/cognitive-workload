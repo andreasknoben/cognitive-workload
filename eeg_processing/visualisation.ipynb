{
 "cells": [
  {
   "cell_type": "markdown",
   "metadata": {},
   "source": [
    "# Visualisation of EEG Engagement Index"
   ]
  },
  {
   "cell_type": "code",
   "execution_count": 38,
   "metadata": {},
   "outputs": [],
   "source": [
    "import numpy as np\n",
    "import pandas as pd\n",
    "import matplotlib.pyplot as plt\n",
    "from scipy.io import loadmat"
   ]
  },
  {
   "cell_type": "code",
   "execution_count": 39,
   "metadata": {},
   "outputs": [
    {
     "name": "stdout",
     "output_type": "stream",
     "text": [
      "(12, 2, 16, 6)\n",
      "(12, 2, 16, 6)\n",
      "(12, 2, 16, 6)\n",
      "(12, 2, 16, 6)\n"
     ]
    }
   ],
   "source": [
    "nParts = 12\n",
    "nConds = 2\n",
    "nChans = 16\n",
    "nPowers = 6\n",
    "\n",
    "EEG_baseline_control = loadmat('../EEG-baseline-control.mat')\n",
    "EEG_baseline_exp = loadmat('../EEG-baseline-treatment.mat')\n",
    "EEG_model_control = loadmat('../EEG-model-control.mat')\n",
    "EEG_model_exp = loadmat('../EEG-model-treatment.mat')\n",
    "\n",
    "EEG_baseline_control = EEG_baseline_control['EEG_baseline_control']\n",
    "EEG_baseline_exp = EEG_baseline_exp['EEG_baseline_exp']\n",
    "EEG_model_control = EEG_model_control['EEG_model_control']\n",
    "EEG_model_exp = EEG_model_exp['EEG_model_exp']\n",
    "\n",
    "print(EEG_baseline_control.shape)\n",
    "print(EEG_baseline_exp.shape)\n",
    "print(EEG_model_control.shape)\n",
    "print(EEG_model_exp.shape)\n",
    "\n",
    "EEG_control = np.zeros((nParts, nConds, nChans, 1))\n",
    "EEG_exp = np.zeros((nParts, nConds, nChans, 1))"
   ]
  },
  {
   "cell_type": "code",
   "execution_count": 40,
   "metadata": {},
   "outputs": [],
   "source": [
    "for iPart in range(nParts):\n",
    "    control_part_all_zero = np.all(EEG_baseline_control[iPart]) == 0\n",
    "    exp_part_all_zero = np.all(EEG_baseline_exp[iPart]) == 0\n",
    "\n",
    "    if not control_part_all_zero:\n",
    "        for iCond in range(nConds):\n",
    "            for iChan in range(nChans):\n",
    "                EEG_control[iPart, iCond, iChan, :] = EEG_model_control[iPart, iCond, iChan, nPowers-1] - EEG_baseline_control[iPart, iCond, iChan, nPowers-1]\n",
    "    if not exp_part_all_zero:\n",
    "        for iCond in range(nConds):\n",
    "            for iChan in range(nChans):\n",
    "                EEG_exp[iPart, iCond, iChan, :] = EEG_model_exp[iPart, iCond, iChan, nPowers-1] - EEG_baseline_exp[iPart, iCond, iChan, nPowers-1]"
   ]
  },
  {
   "cell_type": "code",
   "execution_count": 41,
   "metadata": {},
   "outputs": [
    {
     "name": "stdout",
     "output_type": "stream",
     "text": [
      "0.003552113917937305\n",
      "0.008041641282609455\n"
     ]
    }
   ],
   "source": [
    "EEG_control_mean = np.mean(EEG_control)\n",
    "EEG_exp_mean = np.mean(EEG_exp)\n",
    "print(EEG_control_mean)\n",
    "print(EEG_exp_mean)"
   ]
  },
  {
   "cell_type": "code",
   "execution_count": 42,
   "metadata": {},
   "outputs": [
    {
     "data": {
      "text/plain": [
       "<BarContainer object of 2 artists>"
      ]
     },
     "execution_count": 42,
     "metadata": {},
     "output_type": "execute_result"
    },
    {
     "data": {
      "image/png": "[encoded data removed]",
      "text/plain": [
       "<Figure size 432x288 with 1 Axes>"
      ]
     },
     "metadata": {
      "needs_background": "light"
     },
     "output_type": "display_data"
    }
   ],
   "source": [
    "plt.bar(x = (2,3), height = [EEG_control_mean, EEG_exp_mean],\n",
    "    width = 0.5,\n",
    "    tick_label = [\"control\", \"treatment\"])"
   ]
  }
 ],
 "metadata": {
  "interpreter": {
   "hash": "5b8d77d1c8f70aaeb16280b138556af5d18f1abb0407150fedd7e181c19a76f1"
  },
  "kernelspec": {
   "display_name": "Python 3.9.7 64-bit ('university': venv)",
   "name": "python3"
  },
  "language_info": {
   "codemirror_mode": {
    "name": "ipython",
    "version": 3
   },
   "file_extension": ".py",
   "mimetype": "text/x-python",
   "name": "python",
   "nbconvert_exporter": "python",
   "pygments_lexer": "ipython3",
   "version": "3.9.7"
  },
  "orig_nbformat": 4
 },
 "nbformat": 4,
 "nbformat_minor": 2
}
