{
 "cells": [
  {
   "cell_type": "markdown",
   "metadata": {},
   "source": [
    "# Survey Evaluation"
   ]
  },
  {
   "cell_type": "markdown",
   "metadata": {},
   "source": [
    "## Loading packages"
   ]
  },
  {
   "cell_type": "code",
   "execution_count": 20,
   "metadata": {},
   "outputs": [],
   "source": [
    "import numpy as np\n",
    "import pandas as pd\n",
    "import matplotlib.pyplot as plt"
   ]
  },
  {
   "cell_type": "markdown",
   "metadata": {},
   "source": [
    "## Dictionaries with the right answers"
   ]
  },
  {
   "cell_type": "code",
   "execution_count": 21,
   "metadata": {},
   "outputs": [],
   "source": [
    "# Yes-no questions: simple check\n",
    "# Problem-solving: manual?\n",
    "# Cloze test: automatic + manual?\n",
    "\n",
    "def construct_yes_no_correct():\n",
    "    answers = dict()\n",
    "\n",
    "    with open(\"answers/VB_yesno.txt\") as ansfile:\n",
    "        ans = ansfile.readlines()\n",
    "        ans = [a.strip() for a in ans]\n",
    "        answers[\"VB\"] = ans\n",
    "\n",
    "    with open(\"answers/FE_yesno.txt\") as ansfile:\n",
    "        ans = ansfile.readlines()\n",
    "        ans = [a.strip() for a in ans]\n",
    "        answers[\"FE\"] = ans\n",
    "\n",
    "    return answers\n",
    "\n",
    "def construct_cloze_correct():\n",
    "    answers = {\"VB\": [], \"FE\": []}\n",
    "\n",
    "    with open(\"answers/VB_cloze.txt\") as ansfile:\n",
    "        VB_answers = ansfile.readlines()\n",
    "        for q in VB_answers:\n",
    "            ans = q.split(\",\")\n",
    "            ans = [a.strip() for a in ans]\n",
    "            answers[\"VB\"].append(ans)\n",
    "\n",
    "    with open(\"answers/FE_cloze.txt\") as ansfile:\n",
    "        FE_answers = ansfile.readlines()\n",
    "        for q in FE_answers:\n",
    "            ans = q.split(\",\")\n",
    "            ans = [a.strip() for a in ans]\n",
    "            answers[\"FE\"].append(ans)\n",
    "\n",
    "    return answers\n",
    "\n",
    "def construct_correct():\n",
    "    yes_no = construct_yes_no_correct()\n",
    "    cloze = construct_cloze_correct()\n",
    "    return yes_no, cloze"
   ]
  },
  {
   "cell_type": "markdown",
   "metadata": {},
   "source": [
    "## Loading file"
   ]
  },
  {
   "cell_type": "code",
   "execution_count": 22,
   "metadata": {},
   "outputs": [],
   "source": [
    "def load_data(data_location, n_subjects):\n",
    "    survey_data = pd.read_excel(data_location)\n",
    "    subjects_data = survey_data.iloc[-n_subjects:]\n",
    "    return subjects_data\n",
    "\n",
    "n_subjects = 20\n",
    "data_location = \"~/Projects/Cognitive Workload/survey_data.xlsx\""
   ]
  },
  {
   "cell_type": "markdown",
   "metadata": {},
   "source": [
    "## Extracting columns"
   ]
  },
  {
   "cell_type": "code",
   "execution_count": 23,
   "metadata": {},
   "outputs": [],
   "source": [
    "def extract_answers(data):\n",
    "    yes_no_answers = dict()\n",
    "    yes_no_answers[\"VB\"] = data.loc[:, \"VB_C1\":\"VB_C11\"]\n",
    "    yes_no_answers[\"FE\"] = data.loc[:, \"FAC_1\":\"FAC_11\"]\n",
    "\n",
    "    problem_solving_answers = dict()\n",
    "    problem_solving_answers[\"VB\"] = data.loc[:, \"VB_P1\":\"VB_P5\"]\n",
    "    problem_solving_answers[\"FE\"] = data.loc[:, \"FE_P1\":\"FE_P5\"]\n",
    "\n",
    "    cloze_answers = dict()\n",
    "    cloze_answers[\"VB\"] = data[\"Q86\"]\n",
    "    cloze_answers[\"FE\"] = data[\"Q88\"]\n",
    "\n",
    "    return yes_no_answers, cloze_answers"
   ]
  },
  {
   "cell_type": "markdown",
   "metadata": {},
   "source": [
    "## Checking answers"
   ]
  },
  {
   "cell_type": "code",
   "execution_count": 24,
   "metadata": {},
   "outputs": [],
   "source": [
    "def check_yes_no(correct, answers):\n",
    "    score = 0\n",
    "    total = len(correct)\n",
    "    for i in range(len(correct)):\n",
    "        if answers[i].lower() == correct[i].lower():\n",
    "            score += 1\n",
    "    return score\n",
    "\n",
    "def check_cloze(correct, answers):\n",
    "    score = 0\n",
    "    for i in range(len(correct)):\n",
    "        if answers[i].lower() in correct[i]:\n",
    "            score += 1\n",
    "        else:\n",
    "            # Ask whether it is a synonym\n",
    "            continue\n",
    "    return score"
   ]
  },
  {
   "cell_type": "markdown",
   "metadata": {},
   "source": [
    "## Storage of data"
   ]
  },
  {
   "cell_type": "code",
   "execution_count": 25,
   "metadata": {},
   "outputs": [],
   "source": [
    "control_VB = np.zeros((n_subjects, 3))\n",
    "control_FE = np.zeros((n_subjects, 3))\n",
    "treatment_VB = np.zeros((n_subjects, 3))\n",
    "treatment_FE = np.zeros((n_subjects, 3))"
   ]
  },
  {
   "cell_type": "markdown",
   "metadata": {},
   "source": [
    "## Evaluation"
   ]
  },
  {
   "cell_type": "code",
   "execution_count": 26,
   "metadata": {},
   "outputs": [
    {
     "name": "stderr",
     "output_type": "stream",
     "text": [
      "/home/andreas/.virtualenv/university/lib/python3.8/site-packages/openpyxl/styles/stylesheet.py:226: UserWarning: Workbook contains no default style, apply openpyxl's default\n",
      "  warn(\"Workbook contains no default style, apply openpyxl's default\")\n"
     ]
    }
   ],
   "source": [
    "\n",
    "data = load_data(data_location, n_subjects)\n",
    "\n",
    "yes_no_correct, cloze_correct = construct_correct()\n",
    "yes_no_answers, cloze_answers = extract_answers(data)\n",
    "\n",
    "# Determine whether participant is control or treatment\n",
    "# Calculate scores and put in matrix"
   ]
  }
 ],
 "metadata": {
  "interpreter": {
   "hash": "c664fa85d83d8bb2ace051042d8045988155a170ebfeee8a86687dcea656bb15"
  },
  "kernelspec": {
   "display_name": "Python 3.8.12 64-bit ('university': venv)",
   "name": "python3"
  },
  "language_info": {
   "codemirror_mode": {
    "name": "ipython",
    "version": 3
   },
   "file_extension": ".py",
   "mimetype": "text/x-python",
   "name": "python",
   "nbconvert_exporter": "python",
   "pygments_lexer": "ipython3",
   "version": "3.8.12"
  },
  "orig_nbformat": 4
 },
 "nbformat": 4,
 "nbformat_minor": 2
}
